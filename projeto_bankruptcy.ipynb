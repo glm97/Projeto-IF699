{
  "nbformat": 4,
  "nbformat_minor": 0,
  "metadata": {
    "colab": {
      "name": "projeto-bankruptcy.ipynb",
      "provenance": [],
      "toc_visible": true
    },
    "kernelspec": {
      "name": "python3",
      "display_name": "Python 3"
    },
    "language_info": {
      "name": "python"
    }
  },
  "cells": [
    {
      "cell_type": "markdown",
      "metadata": {
        "id": "LH6V3wBhuI4y"
      },
      "source": [
        "##Debug"
      ]
    },
    {
      "cell_type": "code",
      "metadata": {
        "id": "gNTiwLDpuHzV"
      },
      "source": [
        "#%pdb off"
      ],
      "execution_count": null,
      "outputs": []
    },
    {
      "cell_type": "markdown",
      "metadata": {
        "id": "iu0LGZpEhSJX"
      },
      "source": [
        "##Imports"
      ]
    },
    {
      "cell_type": "code",
      "metadata": {
        "id": "TWXzehHCtjiH",
        "colab": {
          "base_uri": "https://localhost:8080/"
        },
        "outputId": "3f68f4b8-8fa1-463e-e027-7c82857f8d3b"
      },
      "source": [
        "from google.colab import drive\n",
        "drive.mount('/content/drive')"
      ],
      "execution_count": null,
      "outputs": [
        {
          "output_type": "stream",
          "text": [
            "Mounted at /content/drive\n"
          ],
          "name": "stdout"
        }
      ]
    },
    {
      "cell_type": "code",
      "metadata": {
        "id": "oN_6NOKl2pEz"
      },
      "source": [
        "!cp /content/drive/MyDrive/Aprendizagem_Máquina_2020-1/bankruptcy/smote.py ."
      ],
      "execution_count": null,
      "outputs": []
    },
    {
      "cell_type": "code",
      "metadata": {
        "id": "ahZHF2HH3GLK"
      },
      "source": [
        "import smote\n",
        "\n",
        "import pprint\n",
        "pp = pprint.PrettyPrinter(indent=4)"
      ],
      "execution_count": null,
      "outputs": []
    },
    {
      "cell_type": "code",
      "metadata": {
        "colab": {
          "base_uri": "https://localhost:8080/",
          "height": 446
        },
        "id": "Sp3NA4QAJGfn",
        "outputId": "e4db3cee-7940-4a09-e5f2-6b4654280da6"
      },
      "source": [
        "pip install -U imbalanced-learn"
      ],
      "execution_count": null,
      "outputs": [
        {
          "output_type": "stream",
          "text": [
            "Collecting imbalanced-learn\n",
            "\u001b[?25l  Downloading https://files.pythonhosted.org/packages/80/98/dc784205a7e3034e84d41ac4781660c67ad6327f2f5a80c568df31673d1c/imbalanced_learn-0.8.0-py3-none-any.whl (206kB)\n",
            "\u001b[K     |████████████████████████████████| 215kB 12.6MB/s \n",
            "\u001b[?25hCollecting scikit-learn>=0.24\n",
            "\u001b[?25l  Downloading https://files.pythonhosted.org/packages/a8/eb/a48f25c967526b66d5f1fa7a984594f0bf0a5afafa94a8c4dbc317744620/scikit_learn-0.24.2-cp37-cp37m-manylinux2010_x86_64.whl (22.3MB)\n",
            "\u001b[K     |████████████████████████████████| 22.3MB 1.3MB/s \n",
            "\u001b[?25hRequirement already satisfied, skipping upgrade: joblib>=0.11 in /usr/local/lib/python3.7/dist-packages (from imbalanced-learn) (1.0.1)\n",
            "Requirement already satisfied, skipping upgrade: numpy>=1.13.3 in /usr/local/lib/python3.7/dist-packages (from imbalanced-learn) (1.19.5)\n",
            "Requirement already satisfied, skipping upgrade: scipy>=0.19.1 in /usr/local/lib/python3.7/dist-packages (from imbalanced-learn) (1.4.1)\n",
            "Collecting threadpoolctl>=2.0.0\n",
            "  Downloading https://files.pythonhosted.org/packages/f7/12/ec3f2e203afa394a149911729357aa48affc59c20e2c1c8297a60f33f133/threadpoolctl-2.1.0-py3-none-any.whl\n",
            "Installing collected packages: threadpoolctl, scikit-learn, imbalanced-learn\n",
            "  Found existing installation: scikit-learn 0.22.2.post1\n",
            "    Uninstalling scikit-learn-0.22.2.post1:\n",
            "      Successfully uninstalled scikit-learn-0.22.2.post1\n",
            "  Found existing installation: imbalanced-learn 0.4.3\n",
            "    Uninstalling imbalanced-learn-0.4.3:\n",
            "      Successfully uninstalled imbalanced-learn-0.4.3\n",
            "Successfully installed imbalanced-learn-0.8.0 scikit-learn-0.24.2 threadpoolctl-2.1.0\n"
          ],
          "name": "stdout"
        },
        {
          "output_type": "display_data",
          "data": {
            "application/vnd.colab-display-data+json": {
              "pip_warning": {
                "packages": [
                  "sklearn"
                ]
              }
            }
          },
          "metadata": {
            "tags": []
          }
        }
      ]
    },
    {
      "cell_type": "code",
      "metadata": {
        "id": "9757IhHYbv5u"
      },
      "source": [
        "import pandas as pd\n",
        "from sklearn.model_selection import train_test_split\n",
        "\n",
        "#Bagging\n",
        "from imblearn.ensemble import BalancedBaggingClassifier\n",
        "#SMOTE\n",
        "from imblearn.over_sampling import SMOTE\n",
        "#UNDERBAGGING\n",
        "from imblearn.under_sampling import RandomUnderSampler\n",
        "#SMOTEBOOST\n",
        "from imblearn.ensemble import EasyEnsembleClassifier\n",
        "#RUSBOOST\n",
        "from imblearn.ensemble import RUSBoostClassifier\n",
        "\n",
        "#Métricas\n",
        "from sklearn.metrics import recall_score\n",
        "from sklearn.metrics import accuracy_score\n",
        "from sklearn.metrics import precision_score\n",
        "from sklearn.metrics import f1_score\n",
        "from sklearn.metrics import roc_auc_score\n",
        "from sklearn.metrics import roc_curve\n",
        "from matplotlib import pyplot"
      ],
      "execution_count": null,
      "outputs": []
    },
    {
      "cell_type": "markdown",
      "metadata": {
        "id": "AU_Gwv0cxpXr"
      },
      "source": [
        "##Data"
      ]
    },
    {
      "cell_type": "code",
      "metadata": {
        "id": "ziOG33UYxrcg",
        "colab": {
          "base_uri": "https://localhost:8080/",
          "height": 241
        },
        "outputId": "c8508024-34b8-4552-f7ec-fca3aef90c62"
      },
      "source": [
        "# Train set\n",
        "df_train = pd.read_csv('/content/drive/MyDrive/Aprendizagem_Máquina_2020-1/bankruptcy/clean_data.csv')\n",
        "df_train.head()"
      ],
      "execution_count": null,
      "outputs": [
        {
          "output_type": "execute_result",
          "data": {
            "text/html": [
              "<div>\n",
              "<style scoped>\n",
              "    .dataframe tbody tr th:only-of-type {\n",
              "        vertical-align: middle;\n",
              "    }\n",
              "\n",
              "    .dataframe tbody tr th {\n",
              "        vertical-align: top;\n",
              "    }\n",
              "\n",
              "    .dataframe thead th {\n",
              "        text-align: right;\n",
              "    }\n",
              "</style>\n",
              "<table border=\"1\" class=\"dataframe\">\n",
              "  <thead>\n",
              "    <tr style=\"text-align: right;\">\n",
              "      <th></th>\n",
              "      <th>Unnamed: 0</th>\n",
              "      <th>Attr1</th>\n",
              "      <th>Attr2</th>\n",
              "      <th>Attr3</th>\n",
              "      <th>Attr4</th>\n",
              "      <th>Attr5</th>\n",
              "      <th>Attr6</th>\n",
              "      <th>Attr7</th>\n",
              "      <th>Attr8</th>\n",
              "      <th>Attr9</th>\n",
              "      <th>Attr10</th>\n",
              "      <th>Attr11</th>\n",
              "      <th>Attr12</th>\n",
              "      <th>Attr13</th>\n",
              "      <th>Attr14</th>\n",
              "      <th>Attr15</th>\n",
              "      <th>Attr16</th>\n",
              "      <th>Attr17</th>\n",
              "      <th>Attr18</th>\n",
              "      <th>Attr19</th>\n",
              "      <th>Attr20</th>\n",
              "      <th>Attr21</th>\n",
              "      <th>Attr22</th>\n",
              "      <th>Attr23</th>\n",
              "      <th>Attr24</th>\n",
              "      <th>Attr25</th>\n",
              "      <th>Attr26</th>\n",
              "      <th>Attr27</th>\n",
              "      <th>Attr28</th>\n",
              "      <th>Attr29</th>\n",
              "      <th>Attr30</th>\n",
              "      <th>Attr31</th>\n",
              "      <th>Attr32</th>\n",
              "      <th>Attr33</th>\n",
              "      <th>Attr34</th>\n",
              "      <th>Attr35</th>\n",
              "      <th>Attr36</th>\n",
              "      <th>Attr37</th>\n",
              "      <th>Attr38</th>\n",
              "      <th>Attr39</th>\n",
              "      <th>Attr40</th>\n",
              "      <th>Attr41</th>\n",
              "      <th>Attr42</th>\n",
              "      <th>Attr43</th>\n",
              "      <th>Attr44</th>\n",
              "      <th>Attr45</th>\n",
              "      <th>Attr46</th>\n",
              "      <th>Attr47</th>\n",
              "      <th>Attr48</th>\n",
              "      <th>Attr49</th>\n",
              "      <th>Attr50</th>\n",
              "      <th>Attr51</th>\n",
              "      <th>Attr52</th>\n",
              "      <th>Attr53</th>\n",
              "      <th>Attr54</th>\n",
              "      <th>Attr55</th>\n",
              "      <th>Attr56</th>\n",
              "      <th>Attr57</th>\n",
              "      <th>Attr58</th>\n",
              "      <th>Attr59</th>\n",
              "      <th>Attr60</th>\n",
              "      <th>Attr61</th>\n",
              "      <th>Attr62</th>\n",
              "      <th>Attr63</th>\n",
              "      <th>Attr64</th>\n",
              "      <th>class</th>\n",
              "    </tr>\n",
              "  </thead>\n",
              "  <tbody>\n",
              "    <tr>\n",
              "      <th>0</th>\n",
              "      <td>8496</td>\n",
              "      <td>-0.039291</td>\n",
              "      <td>-0.058388</td>\n",
              "      <td>0.587704</td>\n",
              "      <td>2.280182</td>\n",
              "      <td>0.010573</td>\n",
              "      <td>-0.015889</td>\n",
              "      <td>-0.000479</td>\n",
              "      <td>0.164163</td>\n",
              "      <td>-0.947384</td>\n",
              "      <td>0.084969</td>\n",
              "      <td>-0.221349</td>\n",
              "      <td>0.602820</td>\n",
              "      <td>-0.010115</td>\n",
              "      <td>-0.000484</td>\n",
              "      <td>0.004851</td>\n",
              "      <td>-0.340687</td>\n",
              "      <td>0.126169</td>\n",
              "      <td>-0.002628</td>\n",
              "      <td>0.044811</td>\n",
              "      <td>-0.060086</td>\n",
              "      <td>-0.016589</td>\n",
              "      <td>-0.237837</td>\n",
              "      <td>0.043390</td>\n",
              "      <td>-0.012843</td>\n",
              "      <td>0.254277</td>\n",
              "      <td>-0.328284</td>\n",
              "      <td>1.322093</td>\n",
              "      <td>-0.016894</td>\n",
              "      <td>-2.043203</td>\n",
              "      <td>-0.011786</td>\n",
              "      <td>0.042100</td>\n",
              "      <td>-0.029495</td>\n",
              "      <td>1.656072</td>\n",
              "      <td>-0.294124</td>\n",
              "      <td>-0.430546</td>\n",
              "      <td>-1.165116</td>\n",
              "      <td>-0.033358</td>\n",
              "      <td>0.084464</td>\n",
              "      <td>-0.013766</td>\n",
              "      <td>2.157008</td>\n",
              "      <td>-0.007393</td>\n",
              "      <td>0.031397</td>\n",
              "      <td>-0.006624</td>\n",
              "      <td>0.002654</td>\n",
              "      <td>0.008339</td>\n",
              "      <td>2.981314</td>\n",
              "      <td>-0.039083</td>\n",
              "      <td>-0.002365</td>\n",
              "      <td>0.042171</td>\n",
              "      <td>-0.307297</td>\n",
              "      <td>-1.481306</td>\n",
              "      <td>-0.028882</td>\n",
              "      <td>-0.018424</td>\n",
              "      <td>-0.017037</td>\n",
              "      <td>-0.120325</td>\n",
              "      <td>0.009310</td>\n",
              "      <td>0.005465</td>\n",
              "      <td>-0.010274</td>\n",
              "      <td>-0.017543</td>\n",
              "      <td>-0.019615</td>\n",
              "      <td>-0.306676</td>\n",
              "      <td>-0.020105</td>\n",
              "      <td>1.430217</td>\n",
              "      <td>-0.048178</td>\n",
              "      <td>0</td>\n",
              "    </tr>\n",
              "    <tr>\n",
              "      <th>1</th>\n",
              "      <td>13920</td>\n",
              "      <td>-0.020607</td>\n",
              "      <td>0.084267</td>\n",
              "      <td>-0.704885</td>\n",
              "      <td>-0.229100</td>\n",
              "      <td>0.006288</td>\n",
              "      <td>-0.015889</td>\n",
              "      <td>0.001717</td>\n",
              "      <td>-0.497915</td>\n",
              "      <td>-0.634855</td>\n",
              "      <td>-0.095736</td>\n",
              "      <td>-0.180545</td>\n",
              "      <td>-0.082032</td>\n",
              "      <td>-0.010341</td>\n",
              "      <td>0.001712</td>\n",
              "      <td>0.013687</td>\n",
              "      <td>-0.384813</td>\n",
              "      <td>-0.504423</td>\n",
              "      <td>-0.000466</td>\n",
              "      <td>0.029003</td>\n",
              "      <td>-0.015503</td>\n",
              "      <td>-0.015721</td>\n",
              "      <td>-0.401039</td>\n",
              "      <td>0.032801</td>\n",
              "      <td>-0.027669</td>\n",
              "      <td>-0.157665</td>\n",
              "      <td>-0.358473</td>\n",
              "      <td>-0.010062</td>\n",
              "      <td>-0.021792</td>\n",
              "      <td>0.483373</td>\n",
              "      <td>0.004743</td>\n",
              "      <td>0.066171</td>\n",
              "      <td>-0.009941</td>\n",
              "      <td>-0.441072</td>\n",
              "      <td>-0.428041</td>\n",
              "      <td>-0.401639</td>\n",
              "      <td>-0.866023</td>\n",
              "      <td>-0.033684</td>\n",
              "      <td>0.036370</td>\n",
              "      <td>-0.010851</td>\n",
              "      <td>-0.136267</td>\n",
              "      <td>-0.007211</td>\n",
              "      <td>-0.013759</td>\n",
              "      <td>-0.016981</td>\n",
              "      <td>-0.015437</td>\n",
              "      <td>0.004608</td>\n",
              "      <td>-0.227556</td>\n",
              "      <td>-0.016708</td>\n",
              "      <td>-0.255001</td>\n",
              "      <td>-0.010537</td>\n",
              "      <td>-0.788539</td>\n",
              "      <td>-0.576017</td>\n",
              "      <td>-0.009285</td>\n",
              "      <td>-0.037769</td>\n",
              "      <td>-0.020997</td>\n",
              "      <td>-0.159807</td>\n",
              "      <td>0.012424</td>\n",
              "      <td>0.016303</td>\n",
              "      <td>-0.012237</td>\n",
              "      <td>0.017528</td>\n",
              "      <td>-0.042088</td>\n",
              "      <td>-0.045610</td>\n",
              "      <td>-0.009703</td>\n",
              "      <td>-0.366673</td>\n",
              "      <td>-0.046377</td>\n",
              "      <td>0</td>\n",
              "    </tr>\n",
              "    <tr>\n",
              "      <th>2</th>\n",
              "      <td>12980</td>\n",
              "      <td>-0.088343</td>\n",
              "      <td>-0.027121</td>\n",
              "      <td>-0.343012</td>\n",
              "      <td>-0.144971</td>\n",
              "      <td>0.007772</td>\n",
              "      <td>-0.015889</td>\n",
              "      <td>-0.010022</td>\n",
              "      <td>-0.092650</td>\n",
              "      <td>-0.595484</td>\n",
              "      <td>0.045363</td>\n",
              "      <td>-0.267986</td>\n",
              "      <td>-0.173623</td>\n",
              "      <td>-0.012270</td>\n",
              "      <td>-0.010027</td>\n",
              "      <td>0.056571</td>\n",
              "      <td>-0.464209</td>\n",
              "      <td>-0.118437</td>\n",
              "      <td>-0.012024</td>\n",
              "      <td>-0.001928</td>\n",
              "      <td>-0.073132</td>\n",
              "      <td>-0.016657</td>\n",
              "      <td>-0.279753</td>\n",
              "      <td>0.001814</td>\n",
              "      <td>-0.011546</td>\n",
              "      <td>0.217415</td>\n",
              "      <td>-0.443191</td>\n",
              "      <td>-0.010018</td>\n",
              "      <td>-0.020560</td>\n",
              "      <td>-0.660377</td>\n",
              "      <td>-0.010498</td>\n",
              "      <td>0.011146</td>\n",
              "      <td>-0.019563</td>\n",
              "      <td>-0.202084</td>\n",
              "      <td>-0.090560</td>\n",
              "      <td>-0.281678</td>\n",
              "      <td>-0.828344</td>\n",
              "      <td>-0.033474</td>\n",
              "      <td>0.064584</td>\n",
              "      <td>0.007874</td>\n",
              "      <td>-0.148943</td>\n",
              "      <td>-0.007365</td>\n",
              "      <td>0.002885</td>\n",
              "      <td>-0.014245</td>\n",
              "      <td>-0.003296</td>\n",
              "      <td>-0.012225</td>\n",
              "      <td>-0.014557</td>\n",
              "      <td>-0.043809</td>\n",
              "      <td>-0.079912</td>\n",
              "      <td>0.018414</td>\n",
              "      <td>-0.581714</td>\n",
              "      <td>-0.810976</td>\n",
              "      <td>-0.018928</td>\n",
              "      <td>-0.024656</td>\n",
              "      <td>-0.019269</td>\n",
              "      <td>-0.118725</td>\n",
              "      <td>0.009726</td>\n",
              "      <td>0.002026</td>\n",
              "      <td>-0.009355</td>\n",
              "      <td>-0.015589</td>\n",
              "      <td>3.470566</td>\n",
              "      <td>-0.274339</td>\n",
              "      <td>-0.013211</td>\n",
              "      <td>-0.221936</td>\n",
              "      <td>-0.045872</td>\n",
              "      <td>0</td>\n",
              "    </tr>\n",
              "    <tr>\n",
              "      <th>3</th>\n",
              "      <td>2579</td>\n",
              "      <td>0.304549</td>\n",
              "      <td>-0.054473</td>\n",
              "      <td>0.611399</td>\n",
              "      <td>0.121319</td>\n",
              "      <td>0.007839</td>\n",
              "      <td>0.118346</td>\n",
              "      <td>0.074375</td>\n",
              "      <td>-0.072767</td>\n",
              "      <td>-0.276445</td>\n",
              "      <td>0.009637</td>\n",
              "      <td>1.169792</td>\n",
              "      <td>0.717807</td>\n",
              "      <td>-0.009202</td>\n",
              "      <td>0.074370</td>\n",
              "      <td>-0.021642</td>\n",
              "      <td>0.967917</td>\n",
              "      <td>0.088412</td>\n",
              "      <td>0.071077</td>\n",
              "      <td>0.069670</td>\n",
              "      <td>-0.048643</td>\n",
              "      <td>-0.014393</td>\n",
              "      <td>1.276561</td>\n",
              "      <td>0.059836</td>\n",
              "      <td>0.140727</td>\n",
              "      <td>0.129787</td>\n",
              "      <td>0.829466</td>\n",
              "      <td>-0.009985</td>\n",
              "      <td>-0.015462</td>\n",
              "      <td>0.043390</td>\n",
              "      <td>-0.024878</td>\n",
              "      <td>0.068441</td>\n",
              "      <td>-0.027928</td>\n",
              "      <td>0.825169</td>\n",
              "      <td>-0.365597</td>\n",
              "      <td>1.407702</td>\n",
              "      <td>0.524862</td>\n",
              "      <td>-0.033207</td>\n",
              "      <td>0.015708</td>\n",
              "      <td>0.081420</td>\n",
              "      <td>0.067877</td>\n",
              "      <td>-0.007502</td>\n",
              "      <td>0.063734</td>\n",
              "      <td>-0.023073</td>\n",
              "      <td>-0.016546</td>\n",
              "      <td>0.007229</td>\n",
              "      <td>0.137538</td>\n",
              "      <td>-0.033755</td>\n",
              "      <td>1.013936</td>\n",
              "      <td>0.076193</td>\n",
              "      <td>0.010787</td>\n",
              "      <td>-0.845397</td>\n",
              "      <td>-0.027311</td>\n",
              "      <td>-0.020126</td>\n",
              "      <td>-0.017503</td>\n",
              "      <td>-0.014708</td>\n",
              "      <td>0.010900</td>\n",
              "      <td>0.040025</td>\n",
              "      <td>-0.011058</td>\n",
              "      <td>-0.016845</td>\n",
              "      <td>-0.033155</td>\n",
              "      <td>0.019799</td>\n",
              "      <td>-0.019358</td>\n",
              "      <td>0.872982</td>\n",
              "      <td>-0.028910</td>\n",
              "      <td>0</td>\n",
              "    </tr>\n",
              "    <tr>\n",
              "      <th>4</th>\n",
              "      <td>7889</td>\n",
              "      <td>-0.077461</td>\n",
              "      <td>-0.041334</td>\n",
              "      <td>0.509071</td>\n",
              "      <td>-0.028586</td>\n",
              "      <td>0.007770</td>\n",
              "      <td>-0.020030</td>\n",
              "      <td>-0.019380</td>\n",
              "      <td>-0.008366</td>\n",
              "      <td>-0.370743</td>\n",
              "      <td>0.056535</td>\n",
              "      <td>-0.572637</td>\n",
              "      <td>-0.228388</td>\n",
              "      <td>-0.012915</td>\n",
              "      <td>-0.019386</td>\n",
              "      <td>1.266957</td>\n",
              "      <td>-0.532348</td>\n",
              "      <td>-0.021762</td>\n",
              "      <td>-0.021239</td>\n",
              "      <td>-0.010877</td>\n",
              "      <td>-0.039380</td>\n",
              "      <td>-0.015817</td>\n",
              "      <td>-0.083607</td>\n",
              "      <td>0.004464</td>\n",
              "      <td>-0.064671</td>\n",
              "      <td>0.246438</td>\n",
              "      <td>-0.357503</td>\n",
              "      <td>-0.010046</td>\n",
              "      <td>-0.014676</td>\n",
              "      <td>1.139798</td>\n",
              "      <td>-0.021860</td>\n",
              "      <td>-0.016912</td>\n",
              "      <td>-0.023621</td>\n",
              "      <td>0.054158</td>\n",
              "      <td>-0.623580</td>\n",
              "      <td>-0.093193</td>\n",
              "      <td>0.125176</td>\n",
              "      <td>-0.032399</td>\n",
              "      <td>0.022479</td>\n",
              "      <td>0.005184</td>\n",
              "      <td>-0.133261</td>\n",
              "      <td>-0.007452</td>\n",
              "      <td>0.004263</td>\n",
              "      <td>-0.014183</td>\n",
              "      <td>-0.008650</td>\n",
              "      <td>0.003916</td>\n",
              "      <td>0.012620</td>\n",
              "      <td>-0.031242</td>\n",
              "      <td>0.025134</td>\n",
              "      <td>0.025538</td>\n",
              "      <td>0.111551</td>\n",
              "      <td>-0.305373</td>\n",
              "      <td>-0.022995</td>\n",
              "      <td>-0.006171</td>\n",
              "      <td>-0.013715</td>\n",
              "      <td>0.425800</td>\n",
              "      <td>0.009674</td>\n",
              "      <td>0.002882</td>\n",
              "      <td>-0.009832</td>\n",
              "      <td>-0.020804</td>\n",
              "      <td>-0.037412</td>\n",
              "      <td>-0.221942</td>\n",
              "      <td>-0.016030</td>\n",
              "      <td>0.012348</td>\n",
              "      <td>-0.028527</td>\n",
              "      <td>0</td>\n",
              "    </tr>\n",
              "  </tbody>\n",
              "</table>\n",
              "</div>"
            ],
            "text/plain": [
              "   Unnamed: 0     Attr1     Attr2  ...    Attr63    Attr64  class\n",
              "0        8496 -0.039291 -0.058388  ...  1.430217 -0.048178      0\n",
              "1       13920 -0.020607  0.084267  ... -0.366673 -0.046377      0\n",
              "2       12980 -0.088343 -0.027121  ... -0.221936 -0.045872      0\n",
              "3        2579  0.304549 -0.054473  ...  0.872982 -0.028910      0\n",
              "4        7889 -0.077461 -0.041334  ...  0.012348 -0.028527      0\n",
              "\n",
              "[5 rows x 66 columns]"
            ]
          },
          "metadata": {
            "tags": []
          },
          "execution_count": 2
        }
      ]
    },
    {
      "cell_type": "code",
      "metadata": {
        "id": "BbVTcE-7zN4X"
      },
      "source": [
        "X = df_train.iloc[:, 1:-1].values\n",
        "y = df_train.iloc[:, -1].values\n",
        "\n",
        "X_train, X_test, y_train, y_test = train_test_split(X, y, test_size=0.3, random_state=42)"
      ],
      "execution_count": null,
      "outputs": []
    },
    {
      "cell_type": "markdown",
      "metadata": {
        "id": "yWKxXwLNP4Dh"
      },
      "source": [
        "##Métricas"
      ]
    },
    {
      "cell_type": "code",
      "metadata": {
        "id": "sYLIR6azP3HY"
      },
      "source": [
        "def get_scores(y_test, y_pred):\n",
        "  avg = 'weighted'\n",
        "\n",
        "  recall = recall_score(y_test, y_pred, average=avg)\n",
        "  accuracy = accuracy_score(y_test, y_pred)\n",
        "  precision = precision_score(y_test, y_pred, average=avg)\n",
        "  f1 = f1_score(y_test, y_pred, average=avg)\n",
        "  aucroc = roc_auc_score(y_test, y_pred, average=avg)\n",
        "  fpr, tpr, _ = roc_curve(y_test, y_pred)\n",
        "\n",
        "  scores = {\n",
        "      'recall': recall,\n",
        "      'accuracy': accuracy,\n",
        "      'precision': precision,\n",
        "      'f1': f1,\n",
        "      'aucroc': aucroc,\n",
        "      'fpr': fpr,\n",
        "      'tpr': tpr\n",
        "  }\n",
        "\n",
        "  return scores"
      ],
      "execution_count": null,
      "outputs": []
    },
    {
      "cell_type": "markdown",
      "metadata": {
        "id": "sczuKLyKhg2j"
      },
      "source": [
        "##SMOTEBAGGING"
      ]
    },
    {
      "cell_type": "code",
      "metadata": {
        "id": "c0Opz3HthyrK"
      },
      "source": [
        "# Criação do modelo e predição\n",
        "smote_bagging = BalancedBaggingClassifier(bootstrap=True, n_jobs=-1, sampler=SMOTE())\n",
        "smote_bagging.fit(X_train, y_train)\n",
        "y_pred_sb = smote_bagging.predict(X_test)\n",
        "\n",
        "# Métricas\n",
        "scores_sb = get_scores(y_test, y_pred_sb)"
      ],
      "execution_count": null,
      "outputs": []
    },
    {
      "cell_type": "code",
      "metadata": {
        "colab": {
          "base_uri": "https://localhost:8080/"
        },
        "id": "2l9yRWJ3WNz_",
        "outputId": "83744f37-8284-4829-b98c-7a3310ad5abe"
      },
      "source": [
        "pp.pprint(scores_sb)"
      ],
      "execution_count": null,
      "outputs": [
        {
          "output_type": "stream",
          "text": [
            "{   'accuracy': 0.9739502999143101,\n",
            "    'aucroc': 0.6077305107509287,\n",
            "    'f1': 0.9705734313341541,\n",
            "    'fpr': array([0.        , 0.00841958, 1.        ]),\n",
            "    'precision': 0.9682176691592745,\n",
            "    'recall': 0.9739502999143101,\n",
            "    'tpr': array([0.       , 0.2238806, 1.       ])}\n"
          ],
          "name": "stdout"
        }
      ]
    },
    {
      "cell_type": "code",
      "metadata": {
        "colab": {
          "base_uri": "https://localhost:8080/",
          "height": 279
        },
        "id": "dzTKzoAHVIow",
        "outputId": "d9702880-5e15-4db8-96d7-d4a1d484cb06"
      },
      "source": [
        "# Gráfico curva roc\n",
        "pyplot.plot(scores_sb['fpr'], scores_sb['tpr'])\n",
        "pyplot.xlabel('False Positive Rate')\n",
        "pyplot.ylabel('True Positive Rate')\n",
        "pyplot.show()"
      ],
      "execution_count": null,
      "outputs": [
        {
          "output_type": "display_data",
          "data": {
            "image/png": "[encoded data removed]",
            "text/plain": [
              "<Figure size 432x288 with 1 Axes>"
            ]
          },
          "metadata": {
            "tags": [],
            "needs_background": "light"
          }
        }
      ]
    },
    {
      "cell_type": "markdown",
      "metadata": {
        "id": "YxybBhOhhjFp"
      },
      "source": [
        "##UNDERBAGGING"
      ]
    },
    {
      "cell_type": "code",
      "metadata": {
        "id": "HkUl_dSzhzmi"
      },
      "source": [
        "# Criação do modelo e predição\n",
        "underbagging = BalancedBaggingClassifier(bootstrap=True, n_jobs=-1, sampler=RandomUnderSampler())\n",
        "underbagging.fit(X_train, y_train)\n",
        "y_pred_ub = underbagging.predict(X_test)\n",
        "\n",
        "# Métricas\n",
        "scores_ub = get_scores(y_test, y_pred_ub)"
      ],
      "execution_count": null,
      "outputs": []
    },
    {
      "cell_type": "code",
      "metadata": {
        "colab": {
          "base_uri": "https://localhost:8080/"
        },
        "id": "pjep5q60bfQr",
        "outputId": "9aed7070-65dd-4f71-b154-2e2420479371"
      },
      "source": [
        "pp.pprint(scores_ub)"
      ],
      "execution_count": null,
      "outputs": [
        {
          "output_type": "stream",
          "text": [
            "{   'accuracy': 0.8651242502142245,\n",
            "    'aucroc': 0.814380561671558,\n",
            "    'f1': 0.9097588929293413,\n",
            "    'fpr': array([0.        , 0.13243291, 1.        ]),\n",
            "    'precision': 0.9734877478065447,\n",
            "    'recall': 0.8651242502142245,\n",
            "    'tpr': array([0.        , 0.76119403, 1.        ])}\n"
          ],
          "name": "stdout"
        }
      ]
    },
    {
      "cell_type": "code",
      "metadata": {
        "colab": {
          "base_uri": "https://localhost:8080/",
          "height": 279
        },
        "id": "HjvYj9_wVkVG",
        "outputId": "cc5f4e21-e59c-4529-821e-339651d2ade8"
      },
      "source": [
        "# Gráfico curva roc\n",
        "pyplot.plot(scores_ub['fpr'], scores_ub['tpr'])\n",
        "pyplot.xlabel('False Positive Rate')\n",
        "pyplot.ylabel('True Positive Rate')\n",
        "pyplot.show()"
      ],
      "execution_count": null,
      "outputs": [
        {
          "output_type": "display_data",
          "data": {
            "image/png": "[encoded data removed]",
            "text/plain": [
              "<Figure size 432x288 with 1 Axes>"
            ]
          },
          "metadata": {
            "tags": [],
            "needs_background": "light"
          }
        }
      ]
    },
    {
      "cell_type": "markdown",
      "metadata": {
        "id": "Ltpg59j7ho19"
      },
      "source": [
        "##SMOTEBOOST"
      ]
    },
    {
      "cell_type": "code",
      "metadata": {
        "id": "pbzvHnzuh0Q_",
        "colab": {
          "base_uri": "https://localhost:8080/"
        },
        "outputId": "6b8de8e1-dc6f-4a7c-d21a-ee12a2aeb151"
      },
      "source": [
        "# Criação do modelo e predição, usando smote.py\n",
        "smote_boost = smote.SMOTEBoost()\n",
        "smote_boost.fit(X_train, y_train)\n",
        "y_pred_sbs = smote_boost.predict(X_test)\n",
        "\n",
        "# Métricas\n",
        "scores_sbs = get_scores(y_test, y_pred_sbs)\n",
        "pp.pprint(scores_sbs)"
      ],
      "execution_count": null,
      "outputs": [
        {
          "output_type": "stream",
          "text": [
            "{   'accuracy': 0.9725792630676949,\n",
            "    'aucroc': 0.6216034369461236,\n",
            "    'f1': 0.97022186523853,\n",
            "    'fpr': array([0.        , 0.01052447, 1.        ]),\n",
            "    'precision': 0.9683230210512649,\n",
            "    'recall': 0.9725792630676949,\n",
            "    'tpr': array([0.        , 0.25373134, 1.        ])}\n"
          ],
          "name": "stdout"
        }
      ]
    },
    {
      "cell_type": "code",
      "metadata": {
        "colab": {
          "base_uri": "https://localhost:8080/",
          "height": 279
        },
        "id": "mKCLIwIUVphV",
        "outputId": "c07bc2eb-3a47-4e9c-eb38-981440b71263"
      },
      "source": [
        "# Gráfico curva roc\n",
        "pyplot.plot(scores_sbs['fpr'], scores_sbs['tpr'])\n",
        "pyplot.xlabel('False Positive Rate')\n",
        "pyplot.ylabel('True Positive Rate')\n",
        "pyplot.show()"
      ],
      "execution_count": null,
      "outputs": [
        {
          "output_type": "display_data",
          "data": {
            "image/png": "[encoded data removed]",
            "text/plain": [
              "<Figure size 432x288 with 1 Axes>"
            ]
          },
          "metadata": {
            "tags": [],
            "needs_background": "light"
          }
        }
      ]
    },
    {
      "cell_type": "markdown",
      "metadata": {
        "id": "JKr3Jv7BhuBp"
      },
      "source": [
        "##RUSBOOST"
      ]
    },
    {
      "cell_type": "code",
      "metadata": {
        "id": "E1T4TgYmhNqS",
        "colab": {
          "base_uri": "https://localhost:8080/"
        },
        "outputId": "7fcd0988-f6b8-419a-bee9-93caefebb3dd"
      },
      "source": [
        "# Criação do modelo e predição\n",
        "rus_boost = RUSBoostClassifier()\n",
        "rus_boost.fit(X_train, y_train)\n",
        "y_pred_rbs = rus_boost.predict(X_test)\n",
        "\n",
        "# Métricas\n",
        "scores_rbs = get_scores(y_test, y_pred_rbs)\n",
        "pp.pprint(scores_rbs)"
      ],
      "execution_count": null,
      "outputs": [
        {
          "output_type": "stream",
          "text": [
            "{   'accuracy': 0.8296486718080548,\n",
            "    'aucroc': 0.7743640157395796,\n",
            "    'f1': 0.8881190698170724,\n",
            "    'fpr': array([0.        , 0.16768988, 1.        ]),\n",
            "    'precision': 0.9713684329625445,\n",
            "    'recall': 0.8296486718080548,\n",
            "    'tpr': array([0.        , 0.71641791, 1.        ])}\n"
          ],
          "name": "stdout"
        }
      ]
    },
    {
      "cell_type": "code",
      "metadata": {
        "colab": {
          "base_uri": "https://localhost:8080/",
          "height": 279
        },
        "id": "9D9t_aKsV6KS",
        "outputId": "f93f0d41-f083-4270-995f-e7b4b5805d3b"
      },
      "source": [
        "# Gráfico curva roc\n",
        "pyplot.plot(scores_rbs['fpr'], scores_rbs['tpr'])\n",
        "pyplot.xlabel('False Positive Rate')\n",
        "pyplot.ylabel('True Positive Rate')\n",
        "pyplot.show()"
      ],
      "execution_count": null,
      "outputs": [
        {
          "output_type": "display_data",
          "data": {
            "image/png": "[encoded data removed]",
            "text/plain": [
              "<Figure size 432x288 with 1 Axes>"
            ]
          },
          "metadata": {
            "tags": [],
            "needs_background": "light"
          }
        }
      ]
    }
  ]
}